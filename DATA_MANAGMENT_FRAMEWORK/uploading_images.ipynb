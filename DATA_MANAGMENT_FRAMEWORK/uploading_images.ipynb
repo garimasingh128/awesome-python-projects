{
 "metadata": {
  "language_info": {
   "codemirror_mode": {
    "name": "ipython",
    "version": 3
   },
   "file_extension": ".py",
   "mimetype": "text/x-python",
   "name": "python",
   "nbconvert_exporter": "python",
   "pygments_lexer": "ipython3",
   "version": 3
  },
  "orig_nbformat": 2
 },
 "nbformat": 4,
 "nbformat_minor": 2,
 "cells": [
  {
   "cell_type": "code",
   "execution_count": null,
   "metadata": {},
   "outputs": [],
   "source": [
    "# Uploading Images\n",
    "# In this notebook, we will see how to upload and store images on Hub.\n",
    "\n",
    "# first we install hub\n",
    "# runtime enviroment\n",
    "!pip install hub\n",
    "# Note: Restart the colab runtime as few packages has been updated or you may get error ()"
   ]
  },
  {
   "cell_type": "code",
   "execution_count": null,
   "metadata": {},
   "outputs": [],
   "source": [
    "# Download the images\n",
    "!wget -q https://github.com/albumentations-team/albumentations_examples/archive/master.zip -O /tmp/albumentations_examples.zip\n",
    "!unzip -o -qq /tmp/albumentations_examples.zip -d /tmp/albumentations_examples\n",
    "!cp -r /tmp/albumentations_examples/albumentations_examples-master/notebooks/images .\n",
    "!echo \"Images are successfully downloaded\""
   ]
  },
  {
   "cell_type": "code",
   "execution_count": null,
   "metadata": {},
   "outputs": [],
   "source": [
    "# Images are successfully downloaded\n",
    "from hub.schema import ClassLabel, Image\n",
    "from hub import transform, schema\n",
    "\n",
    "from skimage.io import imread\n",
    "from skimage import img_as_ubyte\n",
    "import numpy as np\n",
    "import matplotlib.pyplot as plt\n",
    "from tqdm import tqdm\n",
    "\n",
    "from glob import glob\n",
    "from time import time\n",
    "\n",
    "%matplotlib inline"
   ]
  },
  {
   "cell_type": "code",
   "execution_count": null,
   "metadata": {},
   "outputs": [],
   "source": [
    "# a list of image filepaths\n",
    "fnames = [\"images/image_1.jpg\", \"images/image_2.jpg\", \"images/image_3.jpg\"]\n",
    "len(fnames)"
   ]
  },
  {
   "cell_type": "code",
   "execution_count": null,
   "metadata": {},
   "outputs": [],
   "source": [
    "# each image filepath corresponds to an unique image\n",
    "img = imread(fnames[2])\n",
    "plt.imshow(img)"
   ]
  },
  {
   "cell_type": "code",
   "execution_count": null,
   "metadata": {},
   "outputs": [],
   "source": [
    "\n",
    "# Defining a Schema\n",
    "# A schema is a python dicts that contains metadata about our dataset.\n",
    "\n",
    "# In this example, we tell Hub that our images have the shape (512, 512, 3) and are uint8. Furthermore, these images belong to one of three classes.\n",
    "my_schema = {\n",
    "    \"image\": Image(shape=(512, 512, 3), dtype=\"uint8\"),\n",
    "    \"label\": ClassLabel(num_classes=3),\n",
    "}"
   ]
  },
  {
   "cell_type": "code",
   "execution_count": null,
   "metadata": {},
   "outputs": [],
   "source": [
    "# Defining Transforms\n",
    "# First, we define a method load_transform and decorate it with @transform. This is the function that will applied to each instance/sample of our dataset.\n",
    "\n",
    "# In our example, for each element in the list fnames, we want to read the image into memory (with imread) and label it (by pulling its class from its filename). If we wanted to, we include arbitrary operations too, perhaps resizing or reshaping each image.\n",
    "\n",
    "# Then, we return a dict with the same key-values as the ones defined in my_schema.\n",
    "\n",
    "@transform(schema=my_schema)\n",
    "def load_transform(sample):\n",
    "    image = imread(sample)\n",
    "    label = int(sample[-5]) - 1\n",
    "    \n",
    "    return {\n",
    "        \"image\" : image,\n",
    "        \"label\" : label\n",
    "    }"
   ]
  },
  {
   "cell_type": "code",
   "execution_count": null,
   "metadata": {},
   "outputs": [],
   "source": [
    "ds = load_transform(fnames) # returns a transform object\n",
    "type(ds)"
   ]
  },
  {
   "cell_type": "code",
   "execution_count": null,
   "metadata": {},
   "outputs": [],
   "source": [
    "# Finally, Execution!\n",
    "# Hub lazily executes, so nothing happens until we invoke store.\n",
    "start = time()\n",
    "\n",
    "tag = \"./my_datasets/tutorial_image\"\n",
    "ds2 = ds.store(tag)\n",
    "type(ds2)\n",
    "\n",
    "end = time()\n",
    "print(\"Elapsed time:\", end - start)"
   ]
  },
  {
   "cell_type": "code",
   "execution_count": null,
   "metadata": {},
   "outputs": [],
   "source": [
    "plt.imshow(ds2['image', 0].compute())"
   ]
  }
 ]
}